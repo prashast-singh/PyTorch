{
  "nbformat": 4,
  "nbformat_minor": 0,
  "metadata": {
    "colab": {
      "provenance": [],
      "gpuType": "T4",
      "authorship_tag": "ABX9TyOyjQR2C46g/eSy6GSFfJB+",
      "include_colab_link": true
    },
    "kernelspec": {
      "name": "python3",
      "display_name": "Python 3"
    },
    "language_info": {
      "name": "python"
    },
    "accelerator": "GPU"
  },
  "cells": [
    {
      "cell_type": "markdown",
      "metadata": {
        "id": "view-in-github",
        "colab_type": "text"
      },
      "source": [
        "<a href=\"https://colab.research.google.com/github/prashast-singh/PyTorch/blob/main/pyTorchFundamentals.ipynb\" target=\"_parent\"><img src=\"https://colab.research.google.com/assets/colab-badge.svg\" alt=\"Open In Colab\"/></a>"
      ]
    },
    {
      "cell_type": "code",
      "source": [
        "import torch\n",
        "import pandas as pd\n",
        "import numpy as np\n",
        "import matplotlib.pyplot as plt\n",
        "print(torch.__version__)"
      ],
      "metadata": {
        "colab": {
          "base_uri": "https://localhost:8080/"
        },
        "id": "KxSVHpPXVWD0",
        "outputId": "48be2714-a964-4313-b1f1-66a7782e84b8"
      },
      "execution_count": 95,
      "outputs": [
        {
          "output_type": "stream",
          "name": "stdout",
          "text": [
            "2.5.0+cu121\n"
          ]
        }
      ]
    },
    {
      "cell_type": "markdown",
      "source": [
        "Introduction to tensors.\n",
        "\n",
        "*   Creating Tensors\n",
        "\n",
        "\n",
        "\n"
      ],
      "metadata": {
        "id": "6u94SbyjWELl"
      }
    },
    {
      "cell_type": "code",
      "source": [
        "# Scalar (type of a tensor)\n",
        "# how to create tensor\n",
        "scalar = torch.tensor(7)\n",
        "scalar"
      ],
      "metadata": {
        "colab": {
          "base_uri": "https://localhost:8080/"
        },
        "id": "ufZambwaWMed",
        "outputId": "02f4ad32-32b7-492c-9f5b-31081d3bf51c"
      },
      "execution_count": 96,
      "outputs": [
        {
          "output_type": "execute_result",
          "data": {
            "text/plain": [
              "tensor(7)"
            ]
          },
          "metadata": {},
          "execution_count": 96
        }
      ]
    },
    {
      "cell_type": "code",
      "source": [
        "#now check the dimenson of tensor\n",
        "scalar.ndim"
      ],
      "metadata": {
        "colab": {
          "base_uri": "https://localhost:8080/"
        },
        "id": "eCeSDYuVXq9y",
        "outputId": "d23d7c9d-ed68-465b-935a-e6923c28dd9b"
      },
      "execution_count": 97,
      "outputs": [
        {
          "output_type": "execute_result",
          "data": {
            "text/plain": [
              "0"
            ]
          },
          "metadata": {},
          "execution_count": 97
        }
      ]
    },
    {
      "cell_type": "code",
      "source": [
        "#get tensor back as python int\n",
        "scalar.item()"
      ],
      "metadata": {
        "colab": {
          "base_uri": "https://localhost:8080/"
        },
        "id": "a2cWSy94X9_I",
        "outputId": "2985701c-9b80-49c9-b3cb-87ba9f3b0f6c"
      },
      "execution_count": 98,
      "outputs": [
        {
          "output_type": "execute_result",
          "data": {
            "text/plain": [
              "7"
            ]
          },
          "metadata": {},
          "execution_count": 98
        }
      ]
    },
    {
      "cell_type": "code",
      "source": [
        "# Vector(type of tensor)\n",
        "vector = torch.tensor([7,7])"
      ],
      "metadata": {
        "id": "LAV1ivHvYM60"
      },
      "execution_count": 99,
      "outputs": []
    },
    {
      "cell_type": "code",
      "source": [
        "#check dimensom of vector tensor\n",
        "vector.ndim"
      ],
      "metadata": {
        "colab": {
          "base_uri": "https://localhost:8080/"
        },
        "id": "RPnP8bndY-ig",
        "outputId": "6c72b85d-6848-4d3e-e1aa-0014808f92af"
      },
      "execution_count": 100,
      "outputs": [
        {
          "output_type": "execute_result",
          "data": {
            "text/plain": [
              "1"
            ]
          },
          "metadata": {},
          "execution_count": 100
        }
      ]
    },
    {
      "cell_type": "code",
      "source": [
        "vector.shape"
      ],
      "metadata": {
        "colab": {
          "base_uri": "https://localhost:8080/"
        },
        "id": "md_pvb6WZE_H",
        "outputId": "0ae246eb-5afc-4648-f003-a3ba9570f500"
      },
      "execution_count": 101,
      "outputs": [
        {
          "output_type": "execute_result",
          "data": {
            "text/plain": [
              "torch.Size([2])"
            ]
          },
          "metadata": {},
          "execution_count": 101
        }
      ]
    },
    {
      "cell_type": "code",
      "source": [
        "# MATRIX\n",
        "matrix = torch.tensor([[7,8],[9,19]])\n",
        "matrix"
      ],
      "metadata": {
        "colab": {
          "base_uri": "https://localhost:8080/"
        },
        "id": "i2xR4DbWdFe5",
        "outputId": "41a05b70-88f0-4ee1-cd7b-d12f7327bc4d"
      },
      "execution_count": 102,
      "outputs": [
        {
          "output_type": "execute_result",
          "data": {
            "text/plain": [
              "tensor([[ 7,  8],\n",
              "        [ 9, 19]])"
            ]
          },
          "metadata": {},
          "execution_count": 102
        }
      ]
    },
    {
      "cell_type": "code",
      "source": [
        "#dimension od matrix is 2 ie x and y\n",
        "matrix.ndim"
      ],
      "metadata": {
        "colab": {
          "base_uri": "https://localhost:8080/"
        },
        "id": "ZqrtrytldWys",
        "outputId": "7357b12f-0361-4105-9a7f-105b1abe0af3"
      },
      "execution_count": 103,
      "outputs": [
        {
          "output_type": "execute_result",
          "data": {
            "text/plain": [
              "2"
            ]
          },
          "metadata": {},
          "execution_count": 103
        }
      ]
    },
    {
      "cell_type": "code",
      "source": [
        "# its a 2 x 2 matrix\n",
        "matrix.shape"
      ],
      "metadata": {
        "colab": {
          "base_uri": "https://localhost:8080/"
        },
        "id": "PJ0TuBkpdhG-",
        "outputId": "1cfdfee6-172d-4319-ec72-a644d7752072"
      },
      "execution_count": 104,
      "outputs": [
        {
          "output_type": "execute_result",
          "data": {
            "text/plain": [
              "torch.Size([2, 2])"
            ]
          },
          "metadata": {},
          "execution_count": 104
        }
      ]
    },
    {
      "cell_type": "code",
      "source": [
        "matrix[1]"
      ],
      "metadata": {
        "colab": {
          "base_uri": "https://localhost:8080/"
        },
        "id": "GfuT8M0adqzW",
        "outputId": "2b23fffa-2310-4e54-a244-216868e432e4"
      },
      "execution_count": 105,
      "outputs": [
        {
          "output_type": "execute_result",
          "data": {
            "text/plain": [
              "tensor([ 9, 19])"
            ]
          },
          "metadata": {},
          "execution_count": 105
        }
      ]
    },
    {
      "cell_type": "code",
      "source": [
        "matrix = torch.tensor([[7,8],[9,19],[9,19]])\n",
        "matrix\n",
        "matrix.ndim\n",
        "matrix.shape"
      ],
      "metadata": {
        "colab": {
          "base_uri": "https://localhost:8080/"
        },
        "id": "lxHOtTjkhSCc",
        "outputId": "7967a81f-f5e4-4b66-db35-feebf391bcda"
      },
      "execution_count": 106,
      "outputs": [
        {
          "output_type": "execute_result",
          "data": {
            "text/plain": [
              "torch.Size([3, 2])"
            ]
          },
          "metadata": {},
          "execution_count": 106
        }
      ]
    },
    {
      "cell_type": "code",
      "source": [
        "# RANDOM tensors"
      ],
      "metadata": {
        "id": "cxHweT6yfy0e"
      },
      "execution_count": 107,
      "outputs": []
    },
    {
      "cell_type": "markdown",
      "source": [
        "RANDOM TENSORS ARE IMPORTANT BECAUSE?\n",
        "\n",
        "\n",
        "* The way neural networks learn is that they start with tensors full of random numbers and then they adjust those random numbers to better represent the data.\n",
        "\n"
      ],
      "metadata": {
        "id": "LHPs8-0WgFkC"
      }
    },
    {
      "cell_type": "code",
      "source": [
        "# create random TENSOR\n",
        "random_tensor = torch.rand(3,4)\n",
        "random_tensor"
      ],
      "metadata": {
        "colab": {
          "base_uri": "https://localhost:8080/"
        },
        "id": "sUphOdshg1JQ",
        "outputId": "5a657b00-f693-4082-a427-be492ccca823"
      },
      "execution_count": 108,
      "outputs": [
        {
          "output_type": "execute_result",
          "data": {
            "text/plain": [
              "tensor([[0.0677, 0.4571, 0.4032, 0.4090],\n",
              "        [0.9527, 0.4819, 0.2010, 0.6185],\n",
              "        [0.6179, 0.9318, 0.0394, 0.6090]])"
            ]
          },
          "metadata": {},
          "execution_count": 108
        }
      ]
    },
    {
      "cell_type": "markdown",
      "source": [
        "until 1:42:00 watched to be continued"
      ],
      "metadata": {
        "id": "RmFz-sEEiKQx"
      }
    },
    {
      "cell_type": "code",
      "source": [
        "# Creating an tensor similar to image tensor\n",
        "random_image_size_tensor = torch.rand(size=(224, 224, 3)) # heigth width and colour channel (r,g,b)\n",
        "random_image_size_tensor"
      ],
      "metadata": {
        "colab": {
          "base_uri": "https://localhost:8080/"
        },
        "id": "xCCqInDwqsn2",
        "outputId": "32cc85ff-182f-42f9-9694-ae4e218caa90"
      },
      "execution_count": 109,
      "outputs": [
        {
          "output_type": "execute_result",
          "data": {
            "text/plain": [
              "tensor([[[0.4585, 0.6269, 0.5635],\n",
              "         [0.4872, 0.2224, 0.5042],\n",
              "         [0.9104, 0.6618, 0.7397],\n",
              "         ...,\n",
              "         [0.8747, 0.6166, 0.9957],\n",
              "         [0.9504, 0.1815, 0.1857],\n",
              "         [0.8702, 0.0306, 0.9095]],\n",
              "\n",
              "        [[0.8799, 0.1882, 0.5687],\n",
              "         [0.5269, 0.8480, 0.2410],\n",
              "         [0.4764, 0.8043, 0.9494],\n",
              "         ...,\n",
              "         [0.7348, 0.5921, 0.5962],\n",
              "         [0.5321, 0.9938, 0.3872],\n",
              "         [0.1673, 0.1386, 0.2984]],\n",
              "\n",
              "        [[0.5236, 0.5743, 0.7433],\n",
              "         [0.4650, 0.3001, 0.2479],\n",
              "         [0.6170, 0.4197, 0.0370],\n",
              "         ...,\n",
              "         [0.8257, 0.5214, 0.3806],\n",
              "         [0.5025, 0.1172, 0.2222],\n",
              "         [0.9139, 0.4368, 0.4341]],\n",
              "\n",
              "        ...,\n",
              "\n",
              "        [[0.1390, 0.2351, 0.8128],\n",
              "         [0.8026, 0.8207, 0.3865],\n",
              "         [0.7617, 0.9225, 0.7559],\n",
              "         ...,\n",
              "         [0.9537, 0.2472, 0.1196],\n",
              "         [0.4516, 0.5654, 0.4984],\n",
              "         [0.9097, 0.3177, 0.3139]],\n",
              "\n",
              "        [[0.9330, 0.8392, 0.7731],\n",
              "         [0.5341, 0.6362, 0.4776],\n",
              "         [0.0153, 0.5608, 0.6143],\n",
              "         ...,\n",
              "         [0.7948, 0.3855, 0.9463],\n",
              "         [0.2476, 0.9166, 0.3603],\n",
              "         [0.9326, 0.0406, 0.9673]],\n",
              "\n",
              "        [[0.4941, 0.1367, 0.3732],\n",
              "         [0.0557, 0.6112, 0.8141],\n",
              "         [0.8467, 0.0933, 0.8634],\n",
              "         ...,\n",
              "         [0.8292, 0.4318, 0.5811],\n",
              "         [0.0462, 0.9087, 0.5646],\n",
              "         [0.6890, 0.1207, 0.7257]]])"
            ]
          },
          "metadata": {},
          "execution_count": 109
        }
      ]
    },
    {
      "cell_type": "code",
      "source": [
        "random_image_size_tensor.shape, random_image_size_tensor.ndim"
      ],
      "metadata": {
        "colab": {
          "base_uri": "https://localhost:8080/"
        },
        "id": "4P7-t7vIrm_Y",
        "outputId": "2aa6f1d8-c202-4400-ee16-2c07a03e04a0"
      },
      "execution_count": 110,
      "outputs": [
        {
          "output_type": "execute_result",
          "data": {
            "text/plain": [
              "(torch.Size([224, 224, 3]), 3)"
            ]
          },
          "metadata": {},
          "execution_count": 110
        }
      ]
    },
    {
      "cell_type": "markdown",
      "source": [
        "** CREATE A TENSOR OF 0 AND 1**"
      ],
      "metadata": {
        "id": "cFzrbwE0sdx9"
      }
    },
    {
      "cell_type": "code",
      "source": [
        "zeros =  torch.zeros(size=(3,4))\n",
        "zeros"
      ],
      "metadata": {
        "colab": {
          "base_uri": "https://localhost:8080/"
        },
        "id": "Hraby02IskxG",
        "outputId": "bfe1c949-c23d-4a30-93f1-2a446c260991"
      },
      "execution_count": 111,
      "outputs": [
        {
          "output_type": "execute_result",
          "data": {
            "text/plain": [
              "tensor([[0., 0., 0., 0.],\n",
              "        [0., 0., 0., 0.],\n",
              "        [0., 0., 0., 0.]])"
            ]
          },
          "metadata": {},
          "execution_count": 111
        }
      ]
    },
    {
      "cell_type": "code",
      "source": [
        "zeros*random_tensor"
      ],
      "metadata": {
        "colab": {
          "base_uri": "https://localhost:8080/"
        },
        "id": "7mQgGO6rs_Vh",
        "outputId": "db3b74e8-93d7-4788-c22c-59ceb2934a6e"
      },
      "execution_count": 112,
      "outputs": [
        {
          "output_type": "execute_result",
          "data": {
            "text/plain": [
              "tensor([[0., 0., 0., 0.],\n",
              "        [0., 0., 0., 0.],\n",
              "        [0., 0., 0., 0.]])"
            ]
          },
          "metadata": {},
          "execution_count": 112
        }
      ]
    },
    {
      "cell_type": "code",
      "source": [
        "ones = torch.ones(size=(3,4))\n",
        "ones"
      ],
      "metadata": {
        "colab": {
          "base_uri": "https://localhost:8080/"
        },
        "id": "6cHxOGS3tZ5Y",
        "outputId": "4fc59682-524a-4cfe-fbd6-44e7a3b109c7"
      },
      "execution_count": 113,
      "outputs": [
        {
          "output_type": "execute_result",
          "data": {
            "text/plain": [
              "tensor([[1., 1., 1., 1.],\n",
              "        [1., 1., 1., 1.],\n",
              "        [1., 1., 1., 1.]])"
            ]
          },
          "metadata": {},
          "execution_count": 113
        }
      ]
    },
    {
      "cell_type": "code",
      "source": [
        "ones*random_tensor"
      ],
      "metadata": {
        "colab": {
          "base_uri": "https://localhost:8080/"
        },
        "id": "jG11uT8etj3O",
        "outputId": "8ffea59e-93cb-4fa6-ffa1-e1e767098356"
      },
      "execution_count": 114,
      "outputs": [
        {
          "output_type": "execute_result",
          "data": {
            "text/plain": [
              "tensor([[0.0677, 0.4571, 0.4032, 0.4090],\n",
              "        [0.9527, 0.4819, 0.2010, 0.6185],\n",
              "        [0.6179, 0.9318, 0.0394, 0.6090]])"
            ]
          },
          "metadata": {},
          "execution_count": 114
        }
      ]
    },
    {
      "cell_type": "markdown",
      "source": [
        "CREATING A RANGE OF TENSOR AND TENSORS LIKE"
      ],
      "metadata": {
        "id": "qrOriWNZuEIH"
      }
    },
    {
      "cell_type": "code",
      "source": [
        " one_to_ten = torch.arange(start=1 , end=11, step=1)\n",
        " one_to_ten"
      ],
      "metadata": {
        "colab": {
          "base_uri": "https://localhost:8080/"
        },
        "id": "VP6Ipw9RuB3w",
        "outputId": "b81c11ea-30a5-460f-82e7-54949e90b02d"
      },
      "execution_count": 115,
      "outputs": [
        {
          "output_type": "execute_result",
          "data": {
            "text/plain": [
              "tensor([ 1,  2,  3,  4,  5,  6,  7,  8,  9, 10])"
            ]
          },
          "metadata": {},
          "execution_count": 115
        }
      ]
    },
    {
      "cell_type": "code",
      "source": [
        "one_to_ten.shape"
      ],
      "metadata": {
        "colab": {
          "base_uri": "https://localhost:8080/"
        },
        "id": "xRJFBNfTu-K0",
        "outputId": "c589f725-b3a9-44e2-f4be-661f60c5a872"
      },
      "execution_count": 116,
      "outputs": [
        {
          "output_type": "execute_result",
          "data": {
            "text/plain": [
              "torch.Size([10])"
            ]
          },
          "metadata": {},
          "execution_count": 116
        }
      ]
    },
    {
      "cell_type": "code",
      "source": [
        "#creating a tensor like above without defining shape\n",
        "ten_zeros = torch.zeros_like(input = one_to_ten)\n",
        "ten_zeros"
      ],
      "metadata": {
        "colab": {
          "base_uri": "https://localhost:8080/"
        },
        "id": "5soxhazSvK4U",
        "outputId": "b4539133-b089-4146-9c87-7ab4843061b0"
      },
      "execution_count": 117,
      "outputs": [
        {
          "output_type": "execute_result",
          "data": {
            "text/plain": [
              "tensor([0, 0, 0, 0, 0, 0, 0, 0, 0, 0])"
            ]
          },
          "metadata": {},
          "execution_count": 117
        }
      ]
    },
    {
      "cell_type": "markdown",
      "source": [
        "**TENSOR DATATYPES\n",
        "\n",
        "\n",
        " Three major problems are:\n",
        "\n",
        " * Tensor not right datatype\n",
        " * Tensor not right shape\n",
        " * Tensorr not on right device\n",
        "\n",
        "\n",
        "\n",
        "**"
      ],
      "metadata": {
        "id": "onTP3Zcj98fJ"
      }
    },
    {
      "cell_type": "code",
      "source": [
        "#FLOAT 32 TENSOR\n",
        "float_32_tensor = torch.tensor([[3.0, 6.0, 9.0]],\n",
        "                               dtype=None, #what datatype is used for creating tensor\n",
        "                               device=None, #what device your tensor on cuda, tpu, cpu\n",
        "                               requires_grad=False) # wheater or not track gradients"
      ],
      "metadata": {
        "id": "P9cvJ8H0-BRE"
      },
      "execution_count": 118,
      "outputs": []
    },
    {
      "cell_type": "code",
      "source": [
        "float_32_tensor"
      ],
      "metadata": {
        "colab": {
          "base_uri": "https://localhost:8080/"
        },
        "id": "EPUT0jp6AUpW",
        "outputId": "1fd5b6a1-7ffd-4838-c2fb-4c03b4f5b2fd"
      },
      "execution_count": 119,
      "outputs": [
        {
          "output_type": "execute_result",
          "data": {
            "text/plain": [
              "tensor([[3., 6., 9.]])"
            ]
          },
          "metadata": {},
          "execution_count": 119
        }
      ]
    },
    {
      "cell_type": "code",
      "source": [
        "float_32_tensor.dtype"
      ],
      "metadata": {
        "colab": {
          "base_uri": "https://localhost:8080/"
        },
        "id": "AhDY3BtEC2-J",
        "outputId": "e024ef57-767a-4177-c51c-7d7fa0c84bf6"
      },
      "execution_count": 120,
      "outputs": [
        {
          "output_type": "execute_result",
          "data": {
            "text/plain": [
              "torch.float32"
            ]
          },
          "metadata": {},
          "execution_count": 120
        }
      ]
    },
    {
      "cell_type": "code",
      "source": [
        "float_16_tensor = float_32_tensor.type(torch.float16) #converted float 16 tensor to float 32 tensor"
      ],
      "metadata": {
        "id": "L7HsIwpmC63b"
      },
      "execution_count": 121,
      "outputs": []
    },
    {
      "cell_type": "code",
      "source": [
        "float_16_tensor"
      ],
      "metadata": {
        "colab": {
          "base_uri": "https://localhost:8080/"
        },
        "id": "_bwcxEPFDU9C",
        "outputId": "72e59e32-d18c-422b-b09d-57840b161570"
      },
      "execution_count": 122,
      "outputs": [
        {
          "output_type": "execute_result",
          "data": {
            "text/plain": [
              "tensor([[3., 6., 9.]], dtype=torch.float16)"
            ]
          },
          "metadata": {},
          "execution_count": 122
        }
      ]
    },
    {
      "cell_type": "code",
      "source": [
        "float_16_tensor.device, float_16_tensor.dtype, float_16_tensor.shape"
      ],
      "metadata": {
        "colab": {
          "base_uri": "https://localhost:8080/"
        },
        "id": "IfPmhau2DnUZ",
        "outputId": "a1cae719-21ee-4358-b670-3067be879827"
      },
      "execution_count": 123,
      "outputs": [
        {
          "output_type": "execute_result",
          "data": {
            "text/plain": [
              "(device(type='cpu'), torch.float16, torch.Size([1, 3]))"
            ]
          },
          "metadata": {},
          "execution_count": 123
        }
      ]
    },
    {
      "cell_type": "markdown",
      "source": [
        "MANIPULATING TENSORS\n",
        "* ADDITION\n",
        "* SUBTRACTION\n",
        "* MULTIPLICATION\n",
        "* DIVISION\n",
        "* MATRIX MULTIPLICATION"
      ],
      "metadata": {
        "id": "yf8aIywhFiDW"
      }
    },
    {
      "cell_type": "code",
      "source": [
        " tensor = torch.tensor([1,2,3])\n",
        " tensor + 100 #addition"
      ],
      "metadata": {
        "colab": {
          "base_uri": "https://localhost:8080/"
        },
        "id": "OhAaveEoFU1F",
        "outputId": "613d5c8b-ec8f-40ee-e4dd-207023478373"
      },
      "execution_count": 124,
      "outputs": [
        {
          "output_type": "execute_result",
          "data": {
            "text/plain": [
              "tensor([101, 102, 103])"
            ]
          },
          "metadata": {},
          "execution_count": 124
        }
      ]
    },
    {
      "cell_type": "code",
      "source": [
        "tensor*10 #multiplication"
      ],
      "metadata": {
        "colab": {
          "base_uri": "https://localhost:8080/"
        },
        "id": "Ke93Kj_FG9jJ",
        "outputId": "1e913e14-f760-49c2-adfd-8dcf343bb340"
      },
      "execution_count": 125,
      "outputs": [
        {
          "output_type": "execute_result",
          "data": {
            "text/plain": [
              "tensor([10, 20, 30])"
            ]
          },
          "metadata": {},
          "execution_count": 125
        }
      ]
    },
    {
      "cell_type": "code",
      "source": [
        "tensor - 10 #subtraction"
      ],
      "metadata": {
        "colab": {
          "base_uri": "https://localhost:8080/"
        },
        "id": "RhOUCKCDHD1e",
        "outputId": "e4cf63e5-2dba-4ff6-ce8a-ab2deca767dd"
      },
      "execution_count": 126,
      "outputs": [
        {
          "output_type": "execute_result",
          "data": {
            "text/plain": [
              "tensor([-9, -8, -7])"
            ]
          },
          "metadata": {},
          "execution_count": 126
        }
      ]
    },
    {
      "cell_type": "code",
      "source": [
        "# tryout tytorch builtin functon\n",
        "torch.mul(tensor, 10)"
      ],
      "metadata": {
        "colab": {
          "base_uri": "https://localhost:8080/"
        },
        "id": "_5sD0NI5HPup",
        "outputId": "08dcdddc-9da4-4861-d225-abde04543a5e"
      },
      "execution_count": 127,
      "outputs": [
        {
          "output_type": "execute_result",
          "data": {
            "text/plain": [
              "tensor([10, 20, 30])"
            ]
          },
          "metadata": {},
          "execution_count": 127
        }
      ]
    },
    {
      "cell_type": "markdown",
      "source": [
        "**MATRIX MULTIPLICATION**"
      ],
      "metadata": {
        "id": "K5h9p4U_Hy9m"
      }
    },
    {
      "cell_type": "code",
      "source": [
        "# ELEMENT WISE MULTIPLICATION\n",
        "another_tensor = torch.tensor([[1,2,3]])\n",
        "print(tensor, '*', tensor)\n",
        "print(tensor*tensor)"
      ],
      "metadata": {
        "colab": {
          "base_uri": "https://localhost:8080/"
        },
        "id": "_Xwnz4MBHya5",
        "outputId": "10a3c7c7-6f15-4364-f974-baa2899bbad8"
      },
      "execution_count": 128,
      "outputs": [
        {
          "output_type": "stream",
          "name": "stdout",
          "text": [
            "tensor([1, 2, 3]) * tensor([1, 2, 3])\n",
            "tensor([1, 4, 9])\n"
          ]
        }
      ]
    },
    {
      "cell_type": "code",
      "source": [
        "#matrix multolication\n",
        "torch.matmul(tensor, tensor), another_tensor.shape, tensor.shape"
      ],
      "metadata": {
        "colab": {
          "base_uri": "https://localhost:8080/"
        },
        "id": "EF8xjBiyIbJz",
        "outputId": "6ee5993f-7660-4325-a336-c84bbbee23e8"
      },
      "execution_count": 129,
      "outputs": [
        {
          "output_type": "execute_result",
          "data": {
            "text/plain": [
              "(tensor(14), torch.Size([1, 3]), torch.Size([3]))"
            ]
          },
          "metadata": {},
          "execution_count": 129
        }
      ]
    },
    {
      "cell_type": "code",
      "source": [
        "#torch.matmul(tensor, another_tensor)"
      ],
      "metadata": {
        "id": "Db9r0SFoKhvv"
      },
      "execution_count": 130,
      "outputs": []
    },
    {
      "cell_type": "markdown",
      "source": [
        "**IN MATMUL THE INNER DIMENSIONS MUST MATCH**\n",
        "EG. (2,3) WILL MULTIPLY (3,2) SHAPE\n",
        "\n",
        "* the resulting matrix has outer dimension rg. shape: (2,3)@(3,2) -> (2,2)"
      ],
      "metadata": {
        "id": "KOc76A2_KJdf"
      }
    },
    {
      "cell_type": "code",
      "source": [
        "tensor_A = torch.tensor([[1,2],[3,4], [5,6]])\n",
        "tensor_B = torch.tensor([[7,10],[8,11], [9,12]])\n",
        "tensor_A.shape , tensor_B.shape"
      ],
      "metadata": {
        "colab": {
          "base_uri": "https://localhost:8080/"
        },
        "id": "yXSuiWCZKFy4",
        "outputId": "a031f1df-ed82-45a2-e3d3-14ce4b967148"
      },
      "execution_count": 131,
      "outputs": [
        {
          "output_type": "execute_result",
          "data": {
            "text/plain": [
              "(torch.Size([3, 2]), torch.Size([3, 2]))"
            ]
          },
          "metadata": {},
          "execution_count": 131
        }
      ]
    },
    {
      "cell_type": "code",
      "source": [
        "# torch.matmul(tensor_A, tensor_B)\n",
        "# solution for this error is to make transpose of one tensor coz\n",
        "#transpose does not chnage determinant of matrix"
      ],
      "metadata": {
        "id": "tOagRZcRMX7_"
      },
      "execution_count": 132,
      "outputs": []
    },
    {
      "cell_type": "code",
      "source": [
        "torch.matmul(tensor_A, tensor_B.T)"
      ],
      "metadata": {
        "colab": {
          "base_uri": "https://localhost:8080/"
        },
        "id": "RKQ6OSU1SE77",
        "outputId": "d3565ac5-2969-4a47-c9b7-b64aed6ac212"
      },
      "execution_count": 134,
      "outputs": [
        {
          "output_type": "execute_result",
          "data": {
            "text/plain": [
              "tensor([[ 27,  30,  33],\n",
              "        [ 61,  68,  75],\n",
              "        [ 95, 106, 117]])"
            ]
          },
          "metadata": {},
          "execution_count": 134
        }
      ]
    },
    {
      "cell_type": "code",
      "source": [
        "tensor_B.T"
      ],
      "metadata": {
        "colab": {
          "base_uri": "https://localhost:8080/"
        },
        "id": "311PcT2lSaZc",
        "outputId": "f5f2df76-d601-4c2b-b8ea-c2681f0b2f5c"
      },
      "execution_count": 135,
      "outputs": [
        {
          "output_type": "execute_result",
          "data": {
            "text/plain": [
              "tensor([[ 7,  8,  9],\n",
              "        [10, 11, 12]])"
            ]
          },
          "metadata": {},
          "execution_count": 135
        }
      ]
    }
  ]
}