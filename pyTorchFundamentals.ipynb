{
  "nbformat": 4,
  "nbformat_minor": 0,
  "metadata": {
    "colab": {
      "provenance": [],
      "gpuType": "V28",
      "authorship_tag": "ABX9TyNXPKQd9RVdNV2fs09i/X6o",
      "include_colab_link": true
    },
    "kernelspec": {
      "name": "python3",
      "display_name": "Python 3"
    },
    "language_info": {
      "name": "python"
    },
    "accelerator": "TPU"
  },
  "cells": [
    {
      "cell_type": "markdown",
      "metadata": {
        "id": "view-in-github",
        "colab_type": "text"
      },
      "source": [
        "<a href=\"https://colab.research.google.com/github/prashast-singh/PyTorch/blob/main/pyTorchFundamentals.ipynb\" target=\"_parent\"><img src=\"https://colab.research.google.com/assets/colab-badge.svg\" alt=\"Open In Colab\"/></a>"
      ]
    },
    {
      "cell_type": "code",
      "source": [
        "import torch\n",
        "import pandas as pd\n",
        "import numpy as np\n",
        "import matplotlib.pyplot as plt\n",
        "print(torch.__version__)"
      ],
      "metadata": {
        "colab": {
          "base_uri": "https://localhost:8080/"
        },
        "id": "KxSVHpPXVWD0",
        "outputId": "25cc2403-bf2e-46fd-f9eb-2a77a8a19f0f"
      },
      "execution_count": 2,
      "outputs": [
        {
          "output_type": "stream",
          "name": "stdout",
          "text": [
            "2.5.0+cu121\n"
          ]
        }
      ]
    },
    {
      "cell_type": "markdown",
      "source": [
        "Introduction to tensors.\n",
        "\n",
        "*   Creating Tensors\n",
        "\n",
        "\n",
        "\n"
      ],
      "metadata": {
        "id": "6u94SbyjWELl"
      }
    },
    {
      "cell_type": "code",
      "source": [
        "# Scalar (type of a tensor)\n",
        "# how to create tensor\n",
        "scalar = torch.tensor(7)\n",
        "scalar"
      ],
      "metadata": {
        "colab": {
          "base_uri": "https://localhost:8080/"
        },
        "id": "ufZambwaWMed",
        "outputId": "f232a103-d174-4028-f600-f1925372b3fb"
      },
      "execution_count": 3,
      "outputs": [
        {
          "output_type": "execute_result",
          "data": {
            "text/plain": [
              "tensor(7)"
            ]
          },
          "metadata": {},
          "execution_count": 3
        }
      ]
    },
    {
      "cell_type": "code",
      "source": [
        "#now check the dimenson of tensor\n",
        "scalar.ndim"
      ],
      "metadata": {
        "colab": {
          "base_uri": "https://localhost:8080/"
        },
        "id": "eCeSDYuVXq9y",
        "outputId": "2118897e-855d-407a-aaf7-aafa1bec205a"
      },
      "execution_count": 4,
      "outputs": [
        {
          "output_type": "execute_result",
          "data": {
            "text/plain": [
              "0"
            ]
          },
          "metadata": {},
          "execution_count": 4
        }
      ]
    },
    {
      "cell_type": "code",
      "source": [
        "#get tensor back as python int\n",
        "scalar.item()"
      ],
      "metadata": {
        "colab": {
          "base_uri": "https://localhost:8080/"
        },
        "id": "a2cWSy94X9_I",
        "outputId": "dc5af4a0-ab0d-4a98-96f6-5ed683d8cc4c"
      },
      "execution_count": 5,
      "outputs": [
        {
          "output_type": "execute_result",
          "data": {
            "text/plain": [
              "7"
            ]
          },
          "metadata": {},
          "execution_count": 5
        }
      ]
    },
    {
      "cell_type": "code",
      "source": [
        "# Vector(type of tensor)\n",
        "vector = torch.tensor([7,7])"
      ],
      "metadata": {
        "id": "LAV1ivHvYM60"
      },
      "execution_count": 6,
      "outputs": []
    },
    {
      "cell_type": "code",
      "source": [
        "#check dimensom of vector tensor\n",
        "vector.ndim"
      ],
      "metadata": {
        "colab": {
          "base_uri": "https://localhost:8080/"
        },
        "id": "RPnP8bndY-ig",
        "outputId": "177444d8-e371-4b7a-939a-76b12cf6c685"
      },
      "execution_count": 7,
      "outputs": [
        {
          "output_type": "execute_result",
          "data": {
            "text/plain": [
              "1"
            ]
          },
          "metadata": {},
          "execution_count": 7
        }
      ]
    },
    {
      "cell_type": "code",
      "source": [
        "vector.shape"
      ],
      "metadata": {
        "colab": {
          "base_uri": "https://localhost:8080/"
        },
        "id": "md_pvb6WZE_H",
        "outputId": "c0dc4f4c-0a58-4671-b626-a60e31019487"
      },
      "execution_count": 8,
      "outputs": [
        {
          "output_type": "execute_result",
          "data": {
            "text/plain": [
              "torch.Size([2])"
            ]
          },
          "metadata": {},
          "execution_count": 8
        }
      ]
    },
    {
      "cell_type": "code",
      "source": [
        "# MATRIX\n",
        "matrix = torch.tensor([[7,8],[9,19]])\n",
        "matrix"
      ],
      "metadata": {
        "colab": {
          "base_uri": "https://localhost:8080/"
        },
        "id": "i2xR4DbWdFe5",
        "outputId": "0779dd9f-a072-406e-8660-8e7d404949e6"
      },
      "execution_count": 9,
      "outputs": [
        {
          "output_type": "execute_result",
          "data": {
            "text/plain": [
              "tensor([[ 7,  8],\n",
              "        [ 9, 19]])"
            ]
          },
          "metadata": {},
          "execution_count": 9
        }
      ]
    },
    {
      "cell_type": "code",
      "source": [
        "#dimension od matrix is 2 ie x and y\n",
        "matrix.ndim"
      ],
      "metadata": {
        "colab": {
          "base_uri": "https://localhost:8080/"
        },
        "id": "ZqrtrytldWys",
        "outputId": "9dd287f8-8798-4982-de33-6f1b5fd54d4e"
      },
      "execution_count": 10,
      "outputs": [
        {
          "output_type": "execute_result",
          "data": {
            "text/plain": [
              "2"
            ]
          },
          "metadata": {},
          "execution_count": 10
        }
      ]
    },
    {
      "cell_type": "code",
      "source": [
        "# its a 2 x 2 matrix\n",
        "matrix.shape"
      ],
      "metadata": {
        "colab": {
          "base_uri": "https://localhost:8080/"
        },
        "id": "PJ0TuBkpdhG-",
        "outputId": "186e1054-09de-4978-a639-c8dbb84d01b2"
      },
      "execution_count": 11,
      "outputs": [
        {
          "output_type": "execute_result",
          "data": {
            "text/plain": [
              "torch.Size([2, 2])"
            ]
          },
          "metadata": {},
          "execution_count": 11
        }
      ]
    },
    {
      "cell_type": "code",
      "source": [
        "matrix[1]"
      ],
      "metadata": {
        "colab": {
          "base_uri": "https://localhost:8080/"
        },
        "id": "GfuT8M0adqzW",
        "outputId": "2d18f2bc-aaac-4c66-ef83-728b7874ed67"
      },
      "execution_count": 12,
      "outputs": [
        {
          "output_type": "execute_result",
          "data": {
            "text/plain": [
              "tensor([ 9, 19])"
            ]
          },
          "metadata": {},
          "execution_count": 12
        }
      ]
    },
    {
      "cell_type": "code",
      "source": [
        "matrix = torch.tensor([[7,8],[9,19],[9,19]])\n",
        "matrix\n",
        "matrix.ndim\n",
        "matrix.shape"
      ],
      "metadata": {
        "colab": {
          "base_uri": "https://localhost:8080/"
        },
        "id": "lxHOtTjkhSCc",
        "outputId": "7cf4e017-c35f-4e19-d5cd-814e46e9e3e7"
      },
      "execution_count": 13,
      "outputs": [
        {
          "output_type": "execute_result",
          "data": {
            "text/plain": [
              "torch.Size([3, 2])"
            ]
          },
          "metadata": {},
          "execution_count": 13
        }
      ]
    },
    {
      "cell_type": "code",
      "source": [
        "# RANDOM tensors"
      ],
      "metadata": {
        "id": "cxHweT6yfy0e"
      },
      "execution_count": 14,
      "outputs": []
    },
    {
      "cell_type": "markdown",
      "source": [
        "RANDOM TENSORS ARE IMPORTANT BECAUSE?\n",
        "\n",
        "\n",
        "* The way neural networks learn is that they start with tensors full of random numbers and then they adjust those random numbers to better represent the data.\n",
        "\n"
      ],
      "metadata": {
        "id": "LHPs8-0WgFkC"
      }
    },
    {
      "cell_type": "code",
      "source": [
        "# create random TENSOR\n",
        "random_tensor = torch.rand(3,4)\n",
        "random_tensor"
      ],
      "metadata": {
        "colab": {
          "base_uri": "https://localhost:8080/"
        },
        "id": "sUphOdshg1JQ",
        "outputId": "7beda924-1f66-43d5-af2a-8e001aa3d5bb"
      },
      "execution_count": 15,
      "outputs": [
        {
          "output_type": "execute_result",
          "data": {
            "text/plain": [
              "tensor([[0.1491, 0.8547, 0.6659, 0.8675],\n",
              "        [0.8424, 0.8107, 0.1954, 0.1779],\n",
              "        [0.2371, 0.4206, 0.5907, 0.1407]])"
            ]
          },
          "metadata": {},
          "execution_count": 15
        }
      ]
    },
    {
      "cell_type": "markdown",
      "source": [
        "until 1:42:00 watched to be continued"
      ],
      "metadata": {
        "id": "RmFz-sEEiKQx"
      }
    },
    {
      "cell_type": "code",
      "source": [
        "# Creating an tensor similar to image tensor\n",
        "random_image_size_tensor = torch.rand(size=(224, 224, 3)) # heigth width and colour channel (r,g,b)\n",
        "random_image_size_tensor"
      ],
      "metadata": {
        "colab": {
          "base_uri": "https://localhost:8080/"
        },
        "id": "xCCqInDwqsn2",
        "outputId": "b5289edc-c79b-4a14-9505-82dc5a83189e"
      },
      "execution_count": 16,
      "outputs": [
        {
          "output_type": "execute_result",
          "data": {
            "text/plain": [
              "tensor([[[0.3989, 0.9717, 0.5106],\n",
              "         [0.3770, 0.2267, 0.3077],\n",
              "         [0.6677, 0.7641, 0.1583],\n",
              "         ...,\n",
              "         [0.1285, 0.3811, 0.5100],\n",
              "         [0.5225, 0.8314, 0.3625],\n",
              "         [0.7230, 0.2118, 0.7107]],\n",
              "\n",
              "        [[0.8042, 0.7646, 0.1380],\n",
              "         [0.2959, 0.0051, 0.2014],\n",
              "         [0.0712, 0.8083, 0.5153],\n",
              "         ...,\n",
              "         [0.0901, 0.3709, 0.9617],\n",
              "         [0.1201, 0.2961, 0.1279],\n",
              "         [0.4679, 0.4480, 0.0845]],\n",
              "\n",
              "        [[0.9556, 0.7711, 0.1745],\n",
              "         [0.8622, 0.3246, 0.4069],\n",
              "         [0.1796, 0.9136, 0.1904],\n",
              "         ...,\n",
              "         [0.4648, 0.5861, 0.4773],\n",
              "         [0.4644, 0.3428, 0.9140],\n",
              "         [0.2708, 0.6531, 0.9760]],\n",
              "\n",
              "        ...,\n",
              "\n",
              "        [[0.4968, 0.9877, 0.0321],\n",
              "         [0.2557, 0.2736, 0.3811],\n",
              "         [0.3060, 0.8309, 0.0710],\n",
              "         ...,\n",
              "         [0.3022, 0.8324, 0.7987],\n",
              "         [0.9666, 0.1953, 0.2913],\n",
              "         [0.4228, 0.2696, 0.1563]],\n",
              "\n",
              "        [[0.7556, 0.8294, 0.3247],\n",
              "         [0.0756, 0.4070, 0.3795],\n",
              "         [0.2643, 0.3361, 0.1462],\n",
              "         ...,\n",
              "         [0.3525, 0.2120, 0.3455],\n",
              "         [0.9394, 0.2320, 0.8560],\n",
              "         [0.7720, 0.3422, 0.5036]],\n",
              "\n",
              "        [[0.0028, 0.2889, 0.5873],\n",
              "         [0.9750, 0.3333, 0.7807],\n",
              "         [0.6912, 0.7443, 0.1029],\n",
              "         ...,\n",
              "         [0.4015, 0.6138, 0.7649],\n",
              "         [0.9621, 0.6927, 0.5339],\n",
              "         [0.7031, 0.1386, 0.2426]]])"
            ]
          },
          "metadata": {},
          "execution_count": 16
        }
      ]
    },
    {
      "cell_type": "code",
      "source": [
        "random_image_size_tensor.shape, random_image_size_tensor.ndim"
      ],
      "metadata": {
        "colab": {
          "base_uri": "https://localhost:8080/"
        },
        "id": "4P7-t7vIrm_Y",
        "outputId": "297f4db4-ba46-4944-dcfc-18f0ef0e9780"
      },
      "execution_count": 17,
      "outputs": [
        {
          "output_type": "execute_result",
          "data": {
            "text/plain": [
              "(torch.Size([224, 224, 3]), 3)"
            ]
          },
          "metadata": {},
          "execution_count": 17
        }
      ]
    },
    {
      "cell_type": "markdown",
      "source": [
        "** CREATE A TENSOR OF 0 AND 1**"
      ],
      "metadata": {
        "id": "cFzrbwE0sdx9"
      }
    },
    {
      "cell_type": "code",
      "source": [
        "zeros =  torch.zeros(size=(3,4))\n",
        "zeros"
      ],
      "metadata": {
        "colab": {
          "base_uri": "https://localhost:8080/"
        },
        "id": "Hraby02IskxG",
        "outputId": "ee530e15-68ce-47ae-ef69-832424cccbc2"
      },
      "execution_count": 18,
      "outputs": [
        {
          "output_type": "execute_result",
          "data": {
            "text/plain": [
              "tensor([[0., 0., 0., 0.],\n",
              "        [0., 0., 0., 0.],\n",
              "        [0., 0., 0., 0.]])"
            ]
          },
          "metadata": {},
          "execution_count": 18
        }
      ]
    },
    {
      "cell_type": "code",
      "source": [
        "zeros*random_tensor"
      ],
      "metadata": {
        "colab": {
          "base_uri": "https://localhost:8080/"
        },
        "id": "7mQgGO6rs_Vh",
        "outputId": "15ec622d-efa2-4d7b-ae3a-fd41fa2cc151"
      },
      "execution_count": 19,
      "outputs": [
        {
          "output_type": "execute_result",
          "data": {
            "text/plain": [
              "tensor([[0., 0., 0., 0.],\n",
              "        [0., 0., 0., 0.],\n",
              "        [0., 0., 0., 0.]])"
            ]
          },
          "metadata": {},
          "execution_count": 19
        }
      ]
    },
    {
      "cell_type": "code",
      "source": [
        "ones = torch.ones(size=(3,4))\n",
        "ones"
      ],
      "metadata": {
        "colab": {
          "base_uri": "https://localhost:8080/"
        },
        "id": "6cHxOGS3tZ5Y",
        "outputId": "9b3c9070-6d1c-4fcc-ceb4-f476b6b03422"
      },
      "execution_count": 20,
      "outputs": [
        {
          "output_type": "execute_result",
          "data": {
            "text/plain": [
              "tensor([[1., 1., 1., 1.],\n",
              "        [1., 1., 1., 1.],\n",
              "        [1., 1., 1., 1.]])"
            ]
          },
          "metadata": {},
          "execution_count": 20
        }
      ]
    },
    {
      "cell_type": "code",
      "source": [
        "ones*random_tensor"
      ],
      "metadata": {
        "colab": {
          "base_uri": "https://localhost:8080/"
        },
        "id": "jG11uT8etj3O",
        "outputId": "f915736f-949b-43e1-d6a4-3b5e7521dcc5"
      },
      "execution_count": 21,
      "outputs": [
        {
          "output_type": "execute_result",
          "data": {
            "text/plain": [
              "tensor([[0.1491, 0.8547, 0.6659, 0.8675],\n",
              "        [0.8424, 0.8107, 0.1954, 0.1779],\n",
              "        [0.2371, 0.4206, 0.5907, 0.1407]])"
            ]
          },
          "metadata": {},
          "execution_count": 21
        }
      ]
    },
    {
      "cell_type": "markdown",
      "source": [
        "CREATING A RANGE OF TENSOR AND TENSORS LIKE"
      ],
      "metadata": {
        "id": "qrOriWNZuEIH"
      }
    },
    {
      "cell_type": "code",
      "source": [
        " one_to_ten = torch.arange(start=1 , end=11, step=1)\n",
        " one_to_ten"
      ],
      "metadata": {
        "colab": {
          "base_uri": "https://localhost:8080/"
        },
        "id": "VP6Ipw9RuB3w",
        "outputId": "f0e432ff-2377-4f44-98ff-793c34203eb9"
      },
      "execution_count": 22,
      "outputs": [
        {
          "output_type": "execute_result",
          "data": {
            "text/plain": [
              "tensor([ 1,  2,  3,  4,  5,  6,  7,  8,  9, 10])"
            ]
          },
          "metadata": {},
          "execution_count": 22
        }
      ]
    },
    {
      "cell_type": "code",
      "source": [
        "one_to_ten.shape"
      ],
      "metadata": {
        "colab": {
          "base_uri": "https://localhost:8080/"
        },
        "id": "xRJFBNfTu-K0",
        "outputId": "27ebc502-266b-46d4-910c-23cf5f3c16c6"
      },
      "execution_count": 23,
      "outputs": [
        {
          "output_type": "execute_result",
          "data": {
            "text/plain": [
              "torch.Size([10])"
            ]
          },
          "metadata": {},
          "execution_count": 23
        }
      ]
    },
    {
      "cell_type": "code",
      "source": [
        "#creating a tensor like above without defining shape\n",
        "ten_zeros = torch.zeros_like(input = one_to_ten)\n",
        "ten_zeros"
      ],
      "metadata": {
        "colab": {
          "base_uri": "https://localhost:8080/"
        },
        "id": "5soxhazSvK4U",
        "outputId": "561bd848-a0e3-4408-c211-0522ce655a07"
      },
      "execution_count": 24,
      "outputs": [
        {
          "output_type": "execute_result",
          "data": {
            "text/plain": [
              "tensor([0, 0, 0, 0, 0, 0, 0, 0, 0, 0])"
            ]
          },
          "metadata": {},
          "execution_count": 24
        }
      ]
    },
    {
      "cell_type": "markdown",
      "source": [
        "**TENSOR DATATYPES**"
      ],
      "metadata": {
        "id": "onTP3Zcj98fJ"
      }
    },
    {
      "cell_type": "code",
      "source": [
        "#FLOAT 32 TENSOR\n",
        "float_32_tensor = torch.tensor([3.0, 6.0, 9.0],\n",
        "                               dtype=None,\n",
        "                               device=None,\n",
        "                               requires_grad=False)"
      ],
      "metadata": {
        "id": "P9cvJ8H0-BRE"
      },
      "execution_count": 25,
      "outputs": []
    }
  ]
}